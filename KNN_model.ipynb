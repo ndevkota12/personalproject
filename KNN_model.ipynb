{
  "cells": [
    {
      "cell_type": "code",
      "execution_count": 151,
      "metadata": {
        "deletable": false,
        "editable": false,
        "nbgrader": {
          "checksum": "9302968c21097dfc77554bc4838ec04d",
          "grade": false,
          "grade_id": "cell-c5f7e10c9b80a142",
          "locked": true,
          "schema_version": 1,
          "solution": false
        },
        "colab": {
          "base_uri": "https://localhost:8080/",
          "height": 34
        },
        "id": "anWGV4oFxdvl",
        "outputId": "e0f27a1b-dcb5-46ea-86e4-d24487df84f0"
      },
      "outputs": [
        {
          "output_type": "stream",
          "name": "stdout",
          "text": [
            "You're running python 3.10.12\n"
          ]
        }
      ],
      "source": [
        "import math\n",
        "import numpy as np\n",
        "from scipy.stats import mode\n",
        "import sys\n",
        "%matplotlib notebook\n",
        "import matplotlib\n",
        "import matplotlib.pyplot as plt\n",
        "from scipy.io import loadmat\n",
        "import time\n",
        "from helper import *\n",
        "import pandas as pd\n",
        "from google.colab import files\n",
        "import io\n",
        "\n",
        "print('You\\'re running python %s' % sys.version.split(' ')[0])"
      ]
    },
    {
      "cell_type": "code",
      "source": [
        "from google.colab import drive\n",
        "drive.mount('/content/drive')",
        "#https://www.kaggle.com/datasets/gauravtopre/bank-customer-churn-dataset"
      ],
      "metadata": {
        "colab": {
          "base_uri": "https://localhost:8080/",
          "height": 34
        },
        "id": "puEoweQZxi1m",
        "outputId": "c7466c5f-2199-4c68-9601-4d4200e71437"
      },
      "execution_count": 152,
      "outputs": [
        {
          "output_type": "stream",
          "name": "stdout",
          "text": [
            "Drive already mounted at /content/drive; to attempt to forcibly remount, call drive.mount(\"/content/drive\", force_remount=True).\n"
          ]
        }
      ]
    },
    {
      "cell_type": "code",
      "source": [
        "df = pd.read_csv('/content/KNNAlgorithmDataset.csv')\n",
        "df['diagnosis'] = df['diagnosis'].replace({'M': int('0')})\n",
        "df['diagnosis'] = df['diagnosis'].replace({'B': int('1')})\n",
        "df.shape"
      ],
      "metadata": {
        "colab": {
          "base_uri": "https://localhost:8080/",
          "height": 34
        },
        "id": "ro_X7RKsxjQz",
        "outputId": "9b367923-6daa-4b7f-e63a-f3f40b581b74"
      },
      "execution_count": 153,
      "outputs": [
        {
          "output_type": "execute_result",
          "data": {
            "text/plain": [
              "(569, 33)"
            ]
          },
          "metadata": {},
          "execution_count": 153
        }
      ]
    },
    {
      "cell_type": "code",
      "source": [
        "Xrawdata, Yrawdata = df.shape\n",
        "trpercent = 0.8"
      ],
      "metadata": {
        "id": "6gbZfnNOxkz3"
      },
      "execution_count": 154,
      "outputs": []
    },
    {
      "cell_type": "code",
      "source": [
        "dfxTr = df.iloc[:math.floor(Xrawdata*trpercent),2:32]\n",
        "dfyTr = df.iloc[:math.floor(Xrawdata*trpercent),1:2]\n",
        "dfxTe = df.iloc[math.floor(Xrawdata*trpercent):Xrawdata,2:32]\n",
        "dfyTe = df.iloc[math.floor(Xrawdata*trpercent):Xrawdata,1:2]"
      ],
      "metadata": {
        "id": "CPaY5ZSV5o3o"
      },
      "execution_count": 155,
      "outputs": []
    },
    {
      "cell_type": "code",
      "source": [
        "xTr = dfxTr.to_numpy()\n",
        "yTr = dfyTr.to_numpy()\n",
        "xTe = dfxTe.to_numpy()\n",
        "yTe = dfyTr.to_numpy()"
      ],
      "metadata": {
        "id": "B_y9m7t-zk-_"
      },
      "execution_count": 156,
      "outputs": []
    },
    {
      "cell_type": "code",
      "source": [
        "def innerproduct(X,Z=None):\n",
        "    if Z is None:\n",
        "        return X.dot(X.T)\n",
        "    else:\n",
        "        return X.dot(Z.T)"
      ],
      "metadata": {
        "id": "_UnqMx6E0ka7"
      },
      "execution_count": 157,
      "outputs": []
    },
    {
      "cell_type": "code",
      "source": [
        "def l2distance(X,Z=None):\n",
        "    if Z is None:\n",
        "        n,d = X.shape\n",
        "        m = n\n",
        "        R = np.broadcast_to(innerproduct(X).diagonal(),(n,m))\n",
        "        S = R.T\n",
        "        G=innerproduct(X,Z)\n",
        "        D =np.sqrt(S + R - (2*G))\n",
        "\n",
        "    else:\n",
        "        n,d = X.shape\n",
        "        m= Z.shape[0]\n",
        "        S=np.broadcast_to(innerproduct(X).diagonal(),(m,n)).T\n",
        "        R=np.broadcast_to(innerproduct(Z).diagonal(),(n,m))\n",
        "        G=innerproduct(X,Z)\n",
        "        D =np.sqrt(S + R - (2*G))\n",
        "    return D"
      ],
      "metadata": {
        "id": "2XzN2D9c0Zny"
      },
      "execution_count": 158,
      "outputs": []
    },
    {
      "cell_type": "code",
      "execution_count": 159,
      "metadata": {
        "deletable": false,
        "nbgrader": {
          "checksum": "8132bb3cd48b56b201ceca890c573a25",
          "grade": false,
          "grade_id": "cell-findknn",
          "locked": false,
          "schema_version": 1,
          "solution": true
        },
        "id": "WuJZ1qjSxdvn"
      },
      "outputs": [],
      "source": [
        "def findknn(xTr,xTe,k):\n",
        "    Distance = l2distance(xTr,xTe)\n",
        "    indices=np.argsort(Distance,axis=0)[:k]\n",
        "    dists=np.sort(Distance,axis=0)[:k]\n",
        "\n",
        "    return indices, dists"
      ]
    },
    {
      "cell_type": "code",
      "execution_count": 160,
      "metadata": {
        "deletable": false,
        "nbgrader": {
          "checksum": "ef6ef2889a271a751fd3deb853f9c83d",
          "grade": false,
          "grade_id": "cell-accuracy",
          "locked": false,
          "schema_version": 1,
          "solution": true
        },
        "id": "eNMgCW9yxdvp"
      },
      "outputs": [],
      "source": [
        "def accuracy(truth,preds):\n",
        "\n",
        "    truth = truth.flatten()\n",
        "    preds = preds.flatten()\n",
        "    diff = np.abs(truth - preds)\n",
        "    false = np.count_nonzero(diff)\n",
        "    corr = diff.shape[0] - false\n",
        "    accuracy = np.float64(corr / diff.shape[0])\n",
        "\n",
        "    return accuracy"
      ]
    },
    {
      "cell_type": "code",
      "execution_count": 161,
      "metadata": {
        "deletable": false,
        "nbgrader": {
          "checksum": "e8ef75857acd22f7c42fd7e4410447e4",
          "grade": false,
          "grade_id": "cell-knnclassifier",
          "locked": false,
          "schema_version": 1,
          "solution": true
        },
        "id": "2yWGpXbqxdvq"
      },
      "outputs": [],
      "source": [
        "def knnclassifier(xTr,yTr,xTe,k):\n",
        "\n",
        "    yTr = yTr.flatten()\n",
        "\n",
        "    indices, dists = findknn(xTr,xTe,k)\n",
        "    label = yTr[indices]\n",
        "    preds = mode(label)[0][0]\n",
        "    return preds"
      ]
    },
    {
      "cell_type": "code",
      "execution_count": 162,
      "metadata": {
        "deletable": false,
        "editable": false,
        "nbgrader": {
          "checksum": "4b7da90985c7c1175902544467ca61f3",
          "grade": false,
          "grade_id": "cell-922378fd6fbb2a87",
          "locked": true,
          "schema_version": 1,
          "solution": false
        },
        "colab": {
          "base_uri": "https://localhost:8080/",
          "height": 52
        },
        "id": "ESlY53L9xdvs",
        "outputId": "f3573407-4846-4bb7-ad16-731a9d0c7544"
      },
      "outputs": [
        {
          "output_type": "stream",
          "name": "stdout",
          "text": [
            "You obtained 59.12% classification acccuracy in 737.5873 seconds\n",
            "\n"
          ]
        }
      ],
      "source": [
        "preds = knnclassifier(xTr,yTr,xTe,1)\n",
        "result=accuracy(yTe,preds)\n",
        "t1 = time.time()\n",
        "print(\"You obtained %.2f%% classification acccuracy in %.4f seconds\\n\" % (result*100.0,t1-t0))"
      ]
    }
  ],
  "metadata": {
    "anaconda-cloud": {},
    "kernelspec": {
      "display_name": "Python 3",
      "language": "python",
      "name": "python3"
    },
    "language_info": {
      "codemirror_mode": {
        "name": "ipython",
        "version": 3
      },
      "file_extension": ".py",
      "mimetype": "text/x-python",
      "name": "python",
      "nbconvert_exporter": "python",
      "pygments_lexer": "ipython3",
      "version": "3.6.8"
    },
    "colab": {
      "provenance": []
    }
  },
  "nbformat": 4,
  "nbformat_minor": 0
}
